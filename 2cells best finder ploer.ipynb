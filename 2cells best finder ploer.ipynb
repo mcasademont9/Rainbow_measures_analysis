{
    "cells": [
        {
            "cell_type": "code",
            "execution_count": 2,
            "source": [
                "from matplotlib import colors\r\n",
                "#import Small_Functions as sf\r\n",
                "import numpy as np\r\n",
                "from tkinter import filedialog\r\n",
                "import os\r\n",
                "import matplotlib.pyplot as plt\r\n",
                "import matplotlib.gridspec as gridspec\r\n",
                "################################################\r\n",
                "#First of all we load all the data. For that, we ask to the user where are the measure files of the blue cell and the red cell, \r\n",
                "#read each rainbow measure for each measured cell and save it on an array (BlueCell_megaarray, RecCell_megaarray) and its corresponding _names in a list.\r\n",
                "\r\n",
                " \r\n",
                "BlueCell_File_Directory = os.path.join(filedialog.askdirectory(title='Select the directory of the BLUE CELL', initialdir=os.getcwd(), mustexist=True),'TXT files')   # Ask for the directory where all the EQE and JV curve files are                 #Just adding the TXT file at the end of the path because there is an extra folder to open\r\n",
                "BlueCell_Available_folders = os.listdir(BlueCell_File_Directory)\r\n",
                "BlueCells_names = []                                                                    #initialize the list of names   \r\n",
                "for folder in BlueCell_Available_folders:               \r\n",
                "    if not folder.endswith(\".txt\"):                                                     #find for all the folders inside the specified path whic corresponds to the measured cells without reading the calibration files (which are .txt files)\r\n",
                "        \r\n",
                "        cell_pathlist = os.listdir(os.path.join(BlueCell_File_Directory,folder))        #enter to each foler corresponding to each measured cell\r\n",
                "        for file in cell_pathlist:                                                      \r\n",
                "            if file.endswith(\".txt\"):                                                   #And store the data in the corresponding megaarray        \r\n",
                "                load_txt_filepath = os.path.join(BlueCell_File_Directory,folder,file)\r\n",
                "                actual_cell_data = np.loadtxt(load_txt_filepath, skiprows=1)\r\n",
                "                BlueCells_names.append(folder)\r\n",
                "                try: \r\n",
                "                    BlueCell_megaarray\r\n",
                "                except NameError: \r\n",
                "                    BlueCell_megaarray = actual_cell_data\r\n",
                "                else: \r\n",
                "                    BlueCell_megaarray = np.dstack((BlueCell_megaarray, actual_cell_data))\r\n",
                "                \r\n",
                "#This part is doing the same as before, but for the red cell.               \r\n",
                "RedCell_File_Directory = os.path.join(filedialog.askdirectory(title='Select the directory of the RED CELL', initialdir=os.getcwd(), mustexist=True), 'TXT files')  # Ask for the directory where all the EQE and JV curve files are\r\n",
                "RedCell_Available_folders = os.listdir(RedCell_File_Directory)\r\n",
                "RedCells_names = []\r\n",
                "for folder in RedCell_Available_folders:\r\n",
                "    if not folder.endswith(\".txt\"):\r\n",
                "        \r\n",
                "        cell_pathlist = os.listdir(os.path.join(RedCell_File_Directory,folder))\r\n",
                "        for file in cell_pathlist:\r\n",
                "            if file.endswith(\".txt\"):\r\n",
                "                load_txt_filepath = os.path.join(RedCell_File_Directory,folder,file)\r\n",
                "                actual_cell_data = np.loadtxt(load_txt_filepath, skiprows=1)\r\n",
                "                RedCells_names.append(folder)\r\n",
                "                try: \r\n",
                "                    RedCell_megaarray\r\n",
                "                except NameError: \r\n",
                "                    RedCell_megaarray = actual_cell_data\r\n",
                "                else: \r\n",
                "                    RedCell_megaarray = np.dstack((RedCell_megaarray, actual_cell_data))"
            ],
            "outputs": [],
            "metadata": {}
        },
        {
            "cell_type": "code",
            "execution_count": 5,
            "source": [
                "#Here we make the arrays corresponding to all the possible sums between cells. \r\n",
                "Sums_names = []                                                                     #first start the list of cell names for each sum\r\n",
                "for i in range(len(BlueCell_megaarray[0,0,:])):                                  #Loop for the blue cell           \r\n",
                "    for j in range (len(RedCell_megaarray[0,0,:])):                              #Loop for the red cell\r\n",
                "        Summ_actual_array = np.zeros(RedCell_megaarray[:,:,j].shape)                            #first initialize the numpy array of the actual summ\r\n",
                "\r\n",
                "        for r_wl_ind in range (len(RedCell_megaarray[:,0,j])):                                        #This small part is added just in case that red and blue sweep does not have the same cutting wavelenght order (it seareches for the corresponding cutting wavelenght of the red array to the blue array and makes the summ)\r\n",
                "            b_wl_ind = np.where(BlueCell_megaarray[:,0,i]==RedCell_megaarray[r_wl_ind,0,j])           #Find the index of the blue cell array that has the same dividing wavelength as the red cell array\r\n",
                "            Summ_actual_array [r_wl_ind,:] = BlueCell_megaarray[b_wl_ind,:,i] + RedCell_megaarray[r_wl_ind,:,j]    #For that wavelength, sum of all the parameters    \r\n",
                "            Summ_actual_array [r_wl_ind,0:1] = Summ_actual_array [r_wl_ind,0:1]/2                     #Except the dividing wavelength (which should be the same for all the data) and sun power (which will be similar, so we make the average)\r\n",
                "        \r\n",
                "        Summ_actual_name = BlueCells_names[i] +'Blue cell / ' + RedCells_names[j] + 'Red cell'  #Saving the name of the corresponding cell pairs\r\n",
                "        Summ_actual_index = np.array([i, j])                                        #and the index of the BlueCell and RedCell megaarrays so afterwards se can plot them\r\n",
                "        \r\n",
                "        if i==0 and j==0:                                                             #Store the data in new arrays for the first iteration\r\n",
                "            Summ_megaarray = Summ_actual_array\r\n",
                "            Sums_names.append(Summ_actual_name)\r\n",
                "            Summs_indexes = Summ_actual_index\r\n",
                "           \r\n",
                "        else:\r\n",
                "            Summ_megaarray = np.dstack((Summ_megaarray, Summ_actual_array))            #and stacking them for the nexts iterations\r\n",
                "            Sums_names.append(Summ_actual_name)\r\n",
                "            Summs_indexes = np.vstack((Summs_indexes, Summ_actual_index))"
            ],
            "outputs": [
                {
                    "output_type": "error",
                    "ename": "IndexError",
                    "evalue": "list index out of range",
                    "traceback": [
                        "\u001b[1;31m---------------------------------------------------------------------------\u001b[0m",
                        "\u001b[1;31mIndexError\u001b[0m                                Traceback (most recent call last)",
                        "\u001b[1;32mC:\\Users\\MCASAD~1\\AppData\\Local\\Temp/ipykernel_1292/1430736503.py\u001b[0m in \u001b[0;36m<module>\u001b[1;34m\u001b[0m\n\u001b[0;32m     10\u001b[0m             \u001b[0mSumm_actual_array\u001b[0m \u001b[1;33m[\u001b[0m\u001b[0mr_wl_ind\u001b[0m\u001b[1;33m,\u001b[0m\u001b[1;36m0\u001b[0m\u001b[1;33m:\u001b[0m\u001b[1;36m1\u001b[0m\u001b[1;33m]\u001b[0m \u001b[1;33m=\u001b[0m \u001b[0mSumm_actual_array\u001b[0m \u001b[1;33m[\u001b[0m\u001b[0mr_wl_ind\u001b[0m\u001b[1;33m,\u001b[0m\u001b[1;36m0\u001b[0m\u001b[1;33m:\u001b[0m\u001b[1;36m1\u001b[0m\u001b[1;33m]\u001b[0m\u001b[1;33m/\u001b[0m\u001b[1;36m2\u001b[0m                     \u001b[1;31m#Except the dividing wavelength (which should be the same for all the data) and sun power (which will be similar, so we make the average)\u001b[0m\u001b[1;33m\u001b[0m\u001b[1;33m\u001b[0m\u001b[0m\n\u001b[0;32m     11\u001b[0m \u001b[1;33m\u001b[0m\u001b[0m\n\u001b[1;32m---> 12\u001b[1;33m         \u001b[0mSumm_actual_name\u001b[0m \u001b[1;33m=\u001b[0m \u001b[0mBlueCells_names\u001b[0m\u001b[1;33m[\u001b[0m\u001b[0mi\u001b[0m\u001b[1;33m]\u001b[0m \u001b[1;33m+\u001b[0m\u001b[1;34m'Blue cell / '\u001b[0m \u001b[1;33m+\u001b[0m \u001b[0mRedCells_names\u001b[0m\u001b[1;33m[\u001b[0m\u001b[0mj\u001b[0m\u001b[1;33m]\u001b[0m \u001b[1;33m+\u001b[0m \u001b[1;34m'Red cell'\u001b[0m  \u001b[1;31m#Saving the name of the corresponding cell pairs\u001b[0m\u001b[1;33m\u001b[0m\u001b[1;33m\u001b[0m\u001b[0m\n\u001b[0m\u001b[0;32m     13\u001b[0m         \u001b[0mSumm_actual_index\u001b[0m \u001b[1;33m=\u001b[0m \u001b[0mnp\u001b[0m\u001b[1;33m.\u001b[0m\u001b[0marray\u001b[0m\u001b[1;33m(\u001b[0m\u001b[1;33m[\u001b[0m\u001b[0mi\u001b[0m\u001b[1;33m,\u001b[0m \u001b[0mj\u001b[0m\u001b[1;33m]\u001b[0m\u001b[1;33m)\u001b[0m                                        \u001b[1;31m#and the index of the BlueCell and RedCell megaarrays so afterwards se can plot them\u001b[0m\u001b[1;33m\u001b[0m\u001b[1;33m\u001b[0m\u001b[0m\n\u001b[0;32m     14\u001b[0m \u001b[1;33m\u001b[0m\u001b[0m\n",
                        "\u001b[1;31mIndexError\u001b[0m: list index out of range"
                    ]
                }
            ],
            "metadata": {}
        }
    ],
    "metadata": {
        "orig_nbformat": 4,
        "language_info": {
            "name": "python",
            "version": "3.9.2",
            "mimetype": "text/x-python",
            "codemirror_mode": {
                "name": "ipython",
                "version": 3
            },
            "pygments_lexer": "ipython3",
            "nbconvert_exporter": "python",
            "file_extension": ".py"
        },
        "kernelspec": {
            "name": "python3",
            "display_name": "Python 3.9.2 64-bit"
        },
        "interpreter": {
            "hash": "06708d4bca481e43fd1fa66b69cf075b37332e44aba2e39dc0218f03c8cda479"
        }
    },
    "nbformat": 4,
    "nbformat_minor": 2
}